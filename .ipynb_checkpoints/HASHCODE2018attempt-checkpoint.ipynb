{
 "cells": [
  {
   "cell_type": "markdown",
   "metadata": {},
   "source": [
    "## Google Hashcode 2018 problem: assign rides to cars\n",
    "coder:Donal Kelly. This attempt is primitive- it currently randomly assigns rides to cars.\n",
    "\n",
    "The full problem description (pdf) is available here: https://storage.googleapis.com/coding-competitions.appspot.com/HC/2018/hashcode2018_qualification_task.pdf\n"
   ]
  },
  {
   "cell_type": "markdown",
   "metadata": {},
   "source": [
    "read text file"
   ]
  },
  {
   "cell_type": "code",
   "execution_count": 11,
   "metadata": {},
   "outputs": [
    {
     "name": "stdout",
     "output_type": "stream",
     "text": [
      "300 rides \n"
     ]
    }
   ],
   "source": [
    "\n",
    "filename = \"data_files\\\\b_should_be_easy.in\"\n",
    "inputfile = open(filename,\"r\")\n",
    "header = inputfile.readline().rstrip('\\n').split(\" \")\n",
    "\n",
    "rides = []\n",
    "for line in inputfile:\n",
    "    rides.append([int(x) for x in line.rstrip('\\n').split(\" \")])\n",
    "inputfile.close()\n",
    "print(str(len(rides)) + \" rides \")"
   ]
  },
  {
   "cell_type": "markdown",
   "metadata": {},
   "source": [
    "**Process Input**"
   ]
  },
  {
   "cell_type": "code",
   "execution_count": 12,
   "metadata": {},
   "outputs": [],
   "source": [
    "\n",
    "rows = int(header[0])\n",
    "columns = int(header[1])\n",
    "vehicle_count = int(header[2])\n",
    "ride_count = int(header[3])\n",
    "bonus_value = int(header[4])\n",
    "timesteps = int(header[5])\n",
    "\n",
    "#print(rows,columns, vehicle_count, ride_count, bonus_value, timesteps)\n",
    "\n",
    "#append distance to each ride\n",
    "\n",
    "for r in rides:\n",
    "    r.append(abs(r[2]-r[0])+abs(r[3]-r[1]))\n",
    "    r.append(0)\n",
    "#print(rides)\n",
    "\n",
    "#assigned_rides = list.fromkeys(range(vehicle_count),[])\n",
    "\n",
    "\n"
   ]
  },
  {
   "cell_type": "markdown",
   "metadata": {},
   "source": [
    "**Assign Rides V1: Random**"
   ]
  },
  {
   "cell_type": "code",
   "execution_count": null,
   "metadata": {},
   "outputs": [],
   "source": [
    "import random\n",
    "\n",
    "#set up assignments\n",
    "assigned_rides = [[] for x in range(vehicle_count)]\n",
    "\n",
    "#print(assigned_rides)\n",
    "for i, r in enumerate(rides):\n",
    "    #print(i)\n",
    "    random_v = random.randint(0,vehicle_count-1)\n",
    "    #print(random_v)\n",
    "    assigned_rides[random_v].append(i)    \n",
    "print(assigned_rides)"
   ]
  },
  {
   "cell_type": "markdown",
   "metadata": {},
   "source": [
    "## Assign Rides V2: Timesteps Loop ##"
   ]
  },
  {
   "cell_type": "markdown",
   "metadata": {},
   "source": [
    "This version finds and assigns rides per timestep. It has some basic efforts to reduce wasted checks."
   ]
  },
  {
   "cell_type": "code",
   "execution_count": 3,
   "metadata": {},
   "outputs": [
    {
     "name": "stdout",
     "output_type": "stream",
     "text": [
      "1\n",
      "[[0, 0, 1, 3, 2, 9, 4, 0], [1, 2, 1, 0, 0, 9, 2, 0], [2, 0, 2, 2, 0, 9, 2, 0]]\n",
      "Timestep = 0\n",
      "vehicle 0 can look for a ride\n",
      "canDoNow = 6\n",
      "Assigned ride 0 to vehicle 0\n",
      "vehicle 1 can look for a ride\n",
      "canDoNow = 5\n",
      "Assigned ride 1 to vehicle 1\n",
      "Timestep = 1\n",
      "Vehicle is assigned to a ride\n",
      "Vehicle is assigned to a ride\n",
      "Timestep = 2\n",
      "Vehicle is assigned to a ride\n",
      "Vehicle is assigned to a ride\n",
      "Timestep = 3\n",
      "Vehicle is assigned to a ride\n",
      "Vehicle is assigned to a ride\n",
      "Timestep = 4\n",
      "Vehicle is assigned to a ride\n",
      "Vehicle is assigned to a ride\n",
      "Timestep = 5\n",
      "Vehicle is assigned to a ride\n",
      "Ride 1 on vehicle 1 finishes now (timestep 5)\n",
      "vehicle 1 can look for a ride\n",
      "canDoNow = 9\n",
      "Assigned ride 2 to vehicle 1\n",
      "Timestep = 6\n",
      "All rides assigned, timestep 6\n"
     ]
    }
   ],
   "source": [
    "#create a list of vehicles, each v is an array [currentRide,currentRideEndTimeStep,currentX,currentY]\n",
    "#if currentRide = -1 the vehicle does not have a ride and can look for one\n",
    "\n",
    "def canVehicleDoRide(t,vX, vY, rStartX, rStartY, rDist, rEarliestStart, rLatestFinish ):\n",
    "    distanceToStart = (abs(rStartX-vX)+abs(rStartY-vY))\n",
    "    waitTime =  (rEarliestStart - (t + distanceToStart))\n",
    "\n",
    "    if waitTime < 0: #if wait time is negative you do not wait at all, so set to 0\n",
    "        waitTime = 0\n",
    "\n",
    "    eta = (t + distanceToStart + waitTime + rDist)\n",
    "    if eta > rLatestFinish:\n",
    "        return -1\n",
    "    else:\n",
    "        return eta\n",
    "\n",
    "vehicles = [[-1,-1,0,0] for x in range(vehicle_count)]\n",
    "\n",
    "#set up assignments\n",
    "assigned_rides = [[] for x in range(vehicle_count)]\n",
    "\n",
    "##add an element to rides to track their completion\n",
    "\n",
    "#canDo = [[[1] for y in range(rides)] for x in range(vehicle_count)]\n",
    "canDo = [[1 for i in range(ride_count)] for j in range(vehicle_count)]\n",
    "#print(canDo[0][0])\n",
    "\n",
    "\n",
    "for r in rides:\n",
    "    if len(r) < 8:\n",
    "        r.append(0);\n",
    "    else:\n",
    "        r[7] = 0;\n",
    "    \n",
    "print(rides)\n",
    "\n",
    "for t in range(timesteps):\n",
    "    #print(\"Timestep = \" + str(t));\n",
    "    #first check if there are any more rides to assign at all\n",
    "    unassignedRideExists = False\n",
    "    for rc in rides:\n",
    "        if rc[7] == 0:\n",
    "            unassignedRideExists =  True;\n",
    "            break;\n",
    "    \n",
    "    if unassignedRideExists == False:\n",
    "        print(\"All rides assigned, timestep \" + str(t));\n",
    "        break;\n",
    "        \n",
    "    #for each timestep (with rides left to assign) look at each vehicle\n",
    "    for  i, v,  in enumerate(vehicles):\n",
    "        #check to see if a ride finishes this timestep\n",
    "        if v[1] == t:\n",
    "            #print(\"Ride \" + str(v[0]) + \" on vehicle \" + str(i) + \" finishes now (timestep \" + str(t) + \")\")\n",
    "            v[0] = -1\n",
    "            \n",
    "        if v[0] == -1:\n",
    "            print(\"vehicle \" + str(i) + \" can look for a ride\")\n",
    "            #loop through rides to find an available one\n",
    "            for k, r in enumerate(rides):\n",
    "                if r[7] == 0 and canDo[i][k] == 1:\n",
    "                    #this ride has not been assigned so could be assigned\n",
    "                    #can this car actually do this ride?\n",
    "                    canDoNow = canVehicleDoRide(t, v[2], v[3], r[0], r[1], r[6], r[4], r[5] )\n",
    "                   # print(\"canDoNow = \" + str(canDoNow))\n",
    "                    if canDoNow > 0:\n",
    "                        r[7] = 1\n",
    "                        v[0] = k\n",
    "                        v[1] = canDoNow\n",
    "                        assigned_rides[i].append(k)   \n",
    "                        canDo[i][k] = 0 #not sure if this is needed, but vehicle can only do a ride once\n",
    "                        #print(\"Assigned ride \" + str(k) + \" to vehicle \"+ str(i) )\n",
    "                        break\n",
    "                    else:\n",
    "                        #this vehicle will never be able o do this ride so don't check again\n",
    "                        canDo[i][k] = 0\n",
    "            "
   ]
  },
  {
   "cell_type": "markdown",
   "metadata": {
    "collapsed": true
   },
   "source": [
    "**Generate output**"
   ]
  },
  {
   "cell_type": "code",
   "execution_count": 4,
   "metadata": {
    "collapsed": true
   },
   "outputs": [],
   "source": [
    "outputfile = open(\"HASHCODE2018attemptv1.txt\",\"w\")\n",
    "for key, value in enumerate(assigned_rides):\n",
    "    s = \"\" + str(key)\n",
    "    #print(value)\n",
    "    for v in value:\n",
    "        s+= \" \" + str(v)\n",
    "    #print(s)\n",
    "    outputfile.write(s+\"\\n\")\n",
    "outputfile.close()\n",
    "    "
   ]
  },
  {
   "cell_type": "markdown",
   "metadata": {},
   "source": [
    "Work out the score submitted"
   ]
  },
  {
   "cell_type": "code",
   "execution_count": 5,
   "metadata": {},
   "outputs": [
    {
     "name": "stdout",
     "output_type": "stream",
     "text": [
      "Vehicle  0 , Ride  0  from ( 0 , 0 ) to ( 1  to  3 ),\n",
      "distanceToStart: 0 earliestStart: 2 waitTime: 2 , distance: 4\n",
      "EstimatedTimeFinished:  6 , latestFinish: 9 , canFinish: True , bonus: 2\n",
      "rideScore =  6\n",
      "Adjusted location: ( 1 , 3 ), timeCounter: 6\n",
      "Vehicle Score =  6\n",
      "Vehicle  1 , Ride  1  from ( 1 , 2 ) to ( 1  to  0 ),\n",
      "distanceToStart: 3 earliestStart: 0 waitTime: 0 , distance: 2\n",
      "EstimatedTimeFinished:  5 , latestFinish: 9 , canFinish: True , bonus: 0\n",
      "rideScore =  2\n",
      "Adjusted location: ( 1 , 0 ), timeCounter: 5\n",
      "Vehicle  1 , Ride  1  from ( 2 , 0 ) to ( 2  to  2 ),\n",
      "distanceToStart: 1 earliestStart: 0 waitTime: 0 , distance: 2\n",
      "EstimatedTimeFinished:  8 , latestFinish: 9 , canFinish: True , bonus: 0\n",
      "rideScore =  2\n",
      "Adjusted location: ( 2 , 2 ), timeCounter: 8\n",
      "Vehicle Score =  4\n",
      "10\n"
     ]
    }
   ],
   "source": [
    "score = 0\n",
    "for key, value in enumerate(assigned_rides):\n",
    "    location = [0,0] #all vehicles start at 0, each ride will leave them at a different point\n",
    "    timeCounter = 0\n",
    "    vehicleScore = 0   \n",
    "    for v in value:\n",
    "        rideScore = 0\n",
    "        ride = rides[v]\n",
    "        startX = ride[0]\n",
    "        startY = ride[1]\n",
    "        endX = ride[2]\n",
    "        endY = ride[3]\n",
    "        earliestStart = ride[4]\n",
    "        latestFinish=ride[5]\n",
    "        distance = ride[6]\n",
    "            \n",
    "        distanceToStart = (abs(startX-location[0])+abs(startY-location[1]))\n",
    "        waitTime =  (earliestStart - (timeCounter + distanceToStart))\n",
    "        if waitTime < 0: #if wait time is negative you do not wait at all, so set to 0\n",
    "            waitTime = 0\n",
    "       \n",
    "        #can you actually do the ride at all?\n",
    "        EstimatedTimeFinished = (timeCounter + distanceToStart + waitTime + distance)\n",
    "        canFinish = (EstimatedTimeFinished <= latestFinish) # True or False\n",
    "        \n",
    "        #if you can finish it, add the score and move the location and time on\n",
    "        bonus = 0\n",
    "        if canFinish:\n",
    "            #do they get a bonus?           \n",
    "            if (timeCounter + distanceToStart <= earliestStart):\n",
    "                bonus=bonus_value\n",
    "            print(\"Vehicle \",key , \", Ride \",key, \" from (\",ride[0],\",\",ride[1],\") to (\",ride[2],\" to \", ride[3],\"),\")\n",
    "            print(\"distanceToStart:\",distanceToStart, \"earliestStart:\",earliestStart,\"waitTime:\",waitTime,\", distance:\",distance)\n",
    "            print(\"EstimatedTimeFinished: \",EstimatedTimeFinished,\", latestFinish:\",latestFinish,\", canFinish:\",canFinish,\", bonus:\",bonus)  \n",
    "            rideScore += distance + bonus\n",
    "            score+=rideScore\n",
    "            print(\"rideScore = \" , rideScore)\n",
    "            vehicleScore += rideScore                       \n",
    "            location = [endX,endY]\n",
    "            timeCounter += distanceToStart + waitTime + distance \n",
    "            print(\"Adjusted location: (\",endX, \",\",endY,\"), timeCounter:\",timeCounter)\n",
    "            \n",
    "    print(\"Vehicle Score = \", vehicleScore)\n",
    "            \n",
    "print(score)"
   ]
  },
  {
   "cell_type": "code",
   "execution_count": null,
   "metadata": {
    "collapsed": true
   },
   "outputs": [],
   "source": []
  }
 ],
 "metadata": {
  "kernelspec": {
   "display_name": "Python 3",
   "language": "python",
   "name": "python3"
  },
  "language_info": {
   "codemirror_mode": {
    "name": "ipython",
    "version": 3
   },
   "file_extension": ".py",
   "mimetype": "text/x-python",
   "name": "python",
   "nbconvert_exporter": "python",
   "pygments_lexer": "ipython3",
   "version": "3.6.3"
  }
 },
 "nbformat": 4,
 "nbformat_minor": 2
}
